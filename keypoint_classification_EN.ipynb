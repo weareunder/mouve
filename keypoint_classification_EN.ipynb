{
 "cells": [
  {
   "cell_type": "code",
   "execution_count": 71,
   "metadata": {
    "id": "igMyGnjE9hEp"
   },
   "outputs": [],
   "source": [
    "import csv\n",
    "import pandas as pd\n",
    "import numpy as np\n",
    "import tensorflow as tf\n",
    "from sklearn.model_selection import train_test_split\n",
    "\n",
    "RANDOM_SEED = 42"
   ]
  },
  {
   "attachments": {},
   "cell_type": "markdown",
   "metadata": {
    "id": "t2HDvhIu9hEr"
   },
   "source": [
    "# Specify each path"
   ]
  },
  {
   "cell_type": "code",
   "execution_count": 72,
   "metadata": {
    "id": "9NvZP2Zn9hEy"
   },
   "outputs": [],
   "source": [
    "dataset = 'model/keypoint_classifier/keypoint.csv'\n",
    "model_save_path = 'model/keypoint_classifier/keypoint_classifier.hdf5'\n",
    "tflite_save_path = 'model/keypoint_classifier/keypoint_classifier.tflite'"
   ]
  },
  {
   "cell_type": "code",
   "execution_count": 73,
   "metadata": {},
   "outputs": [
    {
     "data": {
      "text/plain": [
       "1    1570\n",
       "2    1356\n",
       "3     337\n",
       "4     209\n",
       "Name: 1, dtype: int64"
      ]
     },
     "execution_count": 73,
     "metadata": {},
     "output_type": "execute_result"
    }
   ],
   "source": [
    "df = pd.read_csv(dataset)\n",
    "df['1'].value_counts()"
   ]
  },
  {
   "attachments": {},
   "cell_type": "markdown",
   "metadata": {
    "id": "s5oMH7x19hEz"
   },
   "source": [
    "# Set number of classes"
   ]
  },
  {
   "cell_type": "code",
   "execution_count": 74,
   "metadata": {
    "id": "du4kodXL9hEz"
   },
   "outputs": [],
   "source": [
    "NUM_CLASSES = 5"
   ]
  },
  {
   "attachments": {},
   "cell_type": "markdown",
   "metadata": {
    "id": "XjnL0uso9hEz"
   },
   "source": [
    "# Dataset reading"
   ]
  },
  {
   "cell_type": "code",
   "execution_count": 75,
   "metadata": {
    "id": "QT5ZqtEz9hE0"
   },
   "outputs": [],
   "source": [
    "X_dataset = np.loadtxt(dataset, delimiter=',', dtype='float32', usecols=list(range(1, (21 * 2) + 1)))"
   ]
  },
  {
   "cell_type": "code",
   "execution_count": 76,
   "metadata": {
    "id": "QmoKFsp49hE0"
   },
   "outputs": [],
   "source": [
    "y_dataset = np.loadtxt(dataset, delimiter=',', dtype='int32', usecols=(0))"
   ]
  },
  {
   "cell_type": "code",
   "execution_count": 77,
   "metadata": {
    "id": "xQU7JTZ_9hE0"
   },
   "outputs": [],
   "source": [
    "X_train, X_test, y_train, y_test = train_test_split(X_dataset, y_dataset, train_size=0.75, random_state=RANDOM_SEED)"
   ]
  },
  {
   "attachments": {},
   "cell_type": "markdown",
   "metadata": {
    "id": "mxK_lETT9hE0"
   },
   "source": [
    "# Model building"
   ]
  },
  {
   "cell_type": "code",
   "execution_count": 85,
   "metadata": {
    "id": "vHBmUf1t9hE1"
   },
   "outputs": [],
   "source": [
    "model = tf.keras.models.Sequential([\n",
    "    tf.keras.layers.Dense(21 * 2*2, activation='relu'),\n",
    "    tf.keras.layers.Input((21 * 2, )),\n",
    "    tf.keras.layers.Dropout(0.2),\n",
    "    tf.keras.layers.Dense(20, activation='relu'),\n",
    "    tf.keras.layers.Dropout(0.4),\n",
    "    tf.keras.layers.Dense(10, activation='relu'),\n",
    "    tf.keras.layers.Dense(NUM_CLASSES, activation='softmax')\n",
    "])"
   ]
  },
  {
   "cell_type": "code",
   "execution_count": 87,
   "metadata": {
    "colab": {
     "base_uri": "https://localhost:8080/"
    },
    "id": "ypqky9tc9hE1",
    "outputId": "5db082bb-30e3-4110-bf63-a1ee777ecd46"
   },
   "outputs": [],
   "source": [
    "# model.summary()  # tf.keras.utils.plot_model(model, show_shapes=True)"
   ]
  },
  {
   "cell_type": "code",
   "execution_count": 88,
   "metadata": {
    "id": "MbMjOflQ9hE1"
   },
   "outputs": [],
   "source": [
    "# Model checkpoint callback\n",
    "cp_callback = tf.keras.callbacks.ModelCheckpoint(\n",
    "    model_save_path, verbose=1, save_weights_only=False)\n",
    "# Callback for early stopping\n",
    "es_callback = tf.keras.callbacks.EarlyStopping(patience=20, verbose=1)"
   ]
  },
  {
   "cell_type": "code",
   "execution_count": 89,
   "metadata": {
    "id": "c3Dac0M_9hE2"
   },
   "outputs": [],
   "source": [
    "# Model compilation\n",
    "model.compile(\n",
    "    optimizer='adam',\n",
    "    loss='sparse_categorical_crossentropy',\n",
    "    metrics=['accuracy']\n",
    ")"
   ]
  },
  {
   "attachments": {},
   "cell_type": "markdown",
   "metadata": {
    "id": "7XI0j1Iu9hE2"
   },
   "source": [
    "# Model training"
   ]
  },
  {
   "cell_type": "code",
   "execution_count": 90,
   "metadata": {
    "colab": {
     "base_uri": "https://localhost:8080/"
    },
    "id": "WirBl-JE9hE3",
    "outputId": "71b30ca2-8294-4d9d-8aa2-800d90d399de",
    "scrolled": true
   },
   "outputs": [
    {
     "name": "stdout",
     "output_type": "stream",
     "text": [
      "Epoch 1/1000\n",
      "21/21 [==============================] - ETA: 0s - loss: 1.6151 - accuracy: 0.2976\n",
      "Epoch 1: saving model to model/keypoint_classifier/keypoint_classifier.hdf5\n",
      "21/21 [==============================] - 1s 23ms/step - loss: 1.6151 - accuracy: 0.2976 - val_loss: 1.3015 - val_accuracy: 0.5236\n",
      "Epoch 2/1000\n",
      "15/21 [====================>.........] - ETA: 0s - loss: 1.4000 - accuracy: 0.4099\n",
      "Epoch 2: saving model to model/keypoint_classifier/keypoint_classifier.hdf5\n",
      "21/21 [==============================] - 0s 11ms/step - loss: 1.3838 - accuracy: 0.4155 - val_loss: 1.1439 - val_accuracy: 0.5811\n",
      "Epoch 3/1000\n",
      "15/21 [====================>.........] - ETA: 0s - loss: 1.3051 - accuracy: 0.4526\n",
      "Epoch 3: saving model to model/keypoint_classifier/keypoint_classifier.hdf5\n",
      "21/21 [==============================] - 0s 10ms/step - loss: 1.3075 - accuracy: 0.4485 - val_loss: 1.0117 - val_accuracy: 0.6226\n",
      "Epoch 4/1000\n",
      "20/21 [===========================>..] - ETA: 0s - loss: 1.2028 - accuracy: 0.4918\n",
      "Epoch 4: saving model to model/keypoint_classifier/keypoint_classifier.hdf5\n",
      "21/21 [==============================] - 0s 12ms/step - loss: 1.2017 - accuracy: 0.4916 - val_loss: 0.9097 - val_accuracy: 0.6398\n",
      "Epoch 5/1000\n",
      "17/21 [=======================>......] - ETA: 0s - loss: 1.1563 - accuracy: 0.5055\n",
      "Epoch 5: saving model to model/keypoint_classifier/keypoint_classifier.hdf5\n",
      "21/21 [==============================] - 0s 10ms/step - loss: 1.1581 - accuracy: 0.5138 - val_loss: 0.8363 - val_accuracy: 0.6651\n",
      "Epoch 6/1000\n",
      "18/21 [========================>.....] - ETA: 0s - loss: 1.0936 - accuracy: 0.5443\n",
      "Epoch 6: saving model to model/keypoint_classifier/keypoint_classifier.hdf5\n",
      "21/21 [==============================] - 0s 9ms/step - loss: 1.0868 - accuracy: 0.5445 - val_loss: 0.7761 - val_accuracy: 0.7204\n",
      "Epoch 7/1000\n",
      "19/21 [==========================>...] - ETA: 0s - loss: 1.0061 - accuracy: 0.5818\n",
      "Epoch 7: saving model to model/keypoint_classifier/keypoint_classifier.hdf5\n",
      "21/21 [==============================] - 0s 9ms/step - loss: 1.0077 - accuracy: 0.5837 - val_loss: 0.7144 - val_accuracy: 0.7353\n",
      "Epoch 8/1000\n",
      "19/21 [==========================>...] - ETA: 0s - loss: 1.0344 - accuracy: 0.5888\n",
      "Epoch 8: saving model to model/keypoint_classifier/keypoint_classifier.hdf5\n",
      "21/21 [==============================] - 0s 9ms/step - loss: 1.0279 - accuracy: 0.5914 - val_loss: 0.6700 - val_accuracy: 0.7560\n",
      "Epoch 9/1000\n",
      "16/21 [=====================>........] - ETA: 0s - loss: 0.9398 - accuracy: 0.6313\n",
      "Epoch 9: saving model to model/keypoint_classifier/keypoint_classifier.hdf5\n",
      "21/21 [==============================] - 0s 11ms/step - loss: 0.9476 - accuracy: 0.6298 - val_loss: 0.6235 - val_accuracy: 0.8090\n",
      "Epoch 10/1000\n",
      "15/21 [====================>.........] - ETA: 0s - loss: 0.9361 - accuracy: 0.6307\n",
      "Epoch 10: saving model to model/keypoint_classifier/keypoint_classifier.hdf5\n",
      "21/21 [==============================] - 0s 10ms/step - loss: 0.9298 - accuracy: 0.6394 - val_loss: 0.5866 - val_accuracy: 0.8228\n",
      "Epoch 11/1000\n",
      "17/21 [=======================>......] - ETA: 0s - loss: 0.9183 - accuracy: 0.6484\n",
      "Epoch 11: saving model to model/keypoint_classifier/keypoint_classifier.hdf5\n",
      "21/21 [==============================] - 0s 9ms/step - loss: 0.9036 - accuracy: 0.6536 - val_loss: 0.5607 - val_accuracy: 0.8354\n",
      "Epoch 12/1000\n",
      "17/21 [=======================>......] - ETA: 0s - loss: 0.9134 - accuracy: 0.6489\n",
      "Epoch 12: saving model to model/keypoint_classifier/keypoint_classifier.hdf5\n",
      "21/21 [==============================] - 0s 9ms/step - loss: 0.9183 - accuracy: 0.6505 - val_loss: 0.5499 - val_accuracy: 0.8262\n",
      "Epoch 13/1000\n",
      "19/21 [==========================>...] - ETA: 0s - loss: 0.8933 - accuracy: 0.6678\n",
      "Epoch 13: saving model to model/keypoint_classifier/keypoint_classifier.hdf5\n",
      "21/21 [==============================] - 0s 14ms/step - loss: 0.9007 - accuracy: 0.6678 - val_loss: 0.5231 - val_accuracy: 0.8446\n",
      "Epoch 14/1000\n",
      "21/21 [==============================] - ETA: 0s - loss: 0.9516 - accuracy: 0.6498\n",
      "Epoch 14: saving model to model/keypoint_classifier/keypoint_classifier.hdf5\n",
      "21/21 [==============================] - 0s 12ms/step - loss: 0.9516 - accuracy: 0.6498 - val_loss: 0.5317 - val_accuracy: 0.8331\n",
      "Epoch 15/1000\n",
      "16/21 [=====================>........] - ETA: 0s - loss: 0.9634 - accuracy: 0.6465\n",
      "Epoch 15: saving model to model/keypoint_classifier/keypoint_classifier.hdf5\n",
      "21/21 [==============================] - 0s 10ms/step - loss: 0.9686 - accuracy: 0.6421 - val_loss: 0.5203 - val_accuracy: 0.8550\n",
      "Epoch 16/1000\n",
      "17/21 [=======================>......] - ETA: 0s - loss: 1.0404 - accuracy: 0.6268\n",
      "Epoch 16: saving model to model/keypoint_classifier/keypoint_classifier.hdf5\n",
      "21/21 [==============================] - 0s 10ms/step - loss: 1.0400 - accuracy: 0.6229 - val_loss: 0.5074 - val_accuracy: 0.8516\n",
      "Epoch 17/1000\n",
      "17/21 [=======================>......] - ETA: 0s - loss: 1.1080 - accuracy: 0.6121\n",
      "Epoch 17: saving model to model/keypoint_classifier/keypoint_classifier.hdf5\n",
      "21/21 [==============================] - 0s 9ms/step - loss: 1.1261 - accuracy: 0.6056 - val_loss: 0.5304 - val_accuracy: 0.7722\n",
      "Epoch 18/1000\n",
      "15/21 [====================>.........] - ETA: 0s - loss: 1.2198 - accuracy: 0.5854\n",
      "Epoch 18: saving model to model/keypoint_classifier/keypoint_classifier.hdf5\n",
      "21/21 [==============================] - 0s 10ms/step - loss: 1.2361 - accuracy: 0.5860 - val_loss: 0.5226 - val_accuracy: 0.8090\n",
      "Epoch 19/1000\n",
      "17/21 [=======================>......] - ETA: 0s - loss: 1.3212 - accuracy: 0.5630\n",
      "Epoch 19: saving model to model/keypoint_classifier/keypoint_classifier.hdf5\n",
      "21/21 [==============================] - 0s 10ms/step - loss: 1.3500 - accuracy: 0.5630 - val_loss: 0.6489 - val_accuracy: 0.7342\n",
      "Epoch 20/1000\n",
      "15/21 [====================>.........] - ETA: 0s - loss: 1.4008 - accuracy: 0.5458\n",
      "Epoch 20: saving model to model/keypoint_classifier/keypoint_classifier.hdf5\n",
      "21/21 [==============================] - 0s 10ms/step - loss: 1.4484 - accuracy: 0.5465 - val_loss: 0.6058 - val_accuracy: 0.7503\n",
      "Epoch 21/1000\n",
      "17/21 [=======================>......] - ETA: 0s - loss: 1.5193 - accuracy: 0.5427\n",
      "Epoch 21: saving model to model/keypoint_classifier/keypoint_classifier.hdf5\n",
      "21/21 [==============================] - 0s 9ms/step - loss: 1.5447 - accuracy: 0.5399 - val_loss: 0.7328 - val_accuracy: 0.6997\n",
      "Epoch 22/1000\n",
      "18/21 [========================>.....] - ETA: 0s - loss: 1.7457 - accuracy: 0.5178\n",
      "Epoch 22: saving model to model/keypoint_classifier/keypoint_classifier.hdf5\n",
      "21/21 [==============================] - 0s 9ms/step - loss: 1.7851 - accuracy: 0.5188 - val_loss: 0.5801 - val_accuracy: 0.7595\n",
      "Epoch 23/1000\n",
      "14/21 [===================>..........] - ETA: 0s - loss: 1.8443 - accuracy: 0.5184\n",
      "Epoch 23: saving model to model/keypoint_classifier/keypoint_classifier.hdf5\n",
      "21/21 [==============================] - 0s 10ms/step - loss: 1.8820 - accuracy: 0.5035 - val_loss: 0.7060 - val_accuracy: 0.6858\n",
      "Epoch 24/1000\n",
      "17/21 [=======================>......] - ETA: 0s - loss: 1.9234 - accuracy: 0.5074\n",
      "Epoch 24: saving model to model/keypoint_classifier/keypoint_classifier.hdf5\n",
      "21/21 [==============================] - 0s 10ms/step - loss: 1.9109 - accuracy: 0.5065 - val_loss: 0.5682 - val_accuracy: 0.7917\n",
      "Epoch 25/1000\n",
      "18/21 [========================>.....] - ETA: 0s - loss: 2.2061 - accuracy: 0.4579\n",
      "Epoch 25: saving model to model/keypoint_classifier/keypoint_classifier.hdf5\n",
      "21/21 [==============================] - 0s 9ms/step - loss: 2.1866 - accuracy: 0.4612 - val_loss: 1.2921 - val_accuracy: 0.6122\n",
      "Epoch 26/1000\n",
      "18/21 [========================>.....] - ETA: 0s - loss: 2.3461 - accuracy: 0.4588\n",
      "Epoch 26: saving model to model/keypoint_classifier/keypoint_classifier.hdf5\n",
      "21/21 [==============================] - 0s 9ms/step - loss: 2.3591 - accuracy: 0.4604 - val_loss: 1.0959 - val_accuracy: 0.5972\n",
      "Epoch 27/1000\n",
      "17/21 [=======================>......] - ETA: 0s - loss: 2.3313 - accuracy: 0.4435\n",
      "Epoch 27: saving model to model/keypoint_classifier/keypoint_classifier.hdf5\n",
      "21/21 [==============================] - 0s 9ms/step - loss: 2.2576 - accuracy: 0.4528 - val_loss: 1.3267 - val_accuracy: 0.4983\n",
      "Epoch 28/1000\n",
      "18/21 [========================>.....] - ETA: 0s - loss: 2.2458 - accuracy: 0.4336\n",
      "Epoch 28: saving model to model/keypoint_classifier/keypoint_classifier.hdf5\n",
      "21/21 [==============================] - 0s 9ms/step - loss: 2.2357 - accuracy: 0.4328 - val_loss: 2.4847 - val_accuracy: 0.4822\n",
      "Epoch 29/1000\n",
      "17/21 [=======================>......] - ETA: 0s - loss: 2.6998 - accuracy: 0.4458\n",
      "Epoch 29: saving model to model/keypoint_classifier/keypoint_classifier.hdf5\n",
      "21/21 [==============================] - 0s 9ms/step - loss: 2.6813 - accuracy: 0.4439 - val_loss: 1.6625 - val_accuracy: 0.5236\n",
      "Epoch 30/1000\n",
      "13/21 [=================>............] - ETA: 0s - loss: 2.2918 - accuracy: 0.4633\n",
      "Epoch 30: saving model to model/keypoint_classifier/keypoint_classifier.hdf5\n",
      "21/21 [==============================] - 0s 10ms/step - loss: 2.2590 - accuracy: 0.4608 - val_loss: 1.0542 - val_accuracy: 0.5524\n",
      "Epoch 31/1000\n",
      "17/21 [=======================>......] - ETA: 0s - loss: 2.1774 - accuracy: 0.4761\n",
      "Epoch 31: saving model to model/keypoint_classifier/keypoint_classifier.hdf5\n",
      "21/21 [==============================] - 0s 9ms/step - loss: 2.1328 - accuracy: 0.4762 - val_loss: 0.6595 - val_accuracy: 0.7020\n",
      "Epoch 32/1000\n",
      "21/21 [==============================] - ETA: 0s - loss: 1.9085 - accuracy: 0.4612\n",
      "Epoch 32: saving model to model/keypoint_classifier/keypoint_classifier.hdf5\n",
      "21/21 [==============================] - 0s 11ms/step - loss: 1.9085 - accuracy: 0.4612 - val_loss: 1.0544 - val_accuracy: 0.5270\n",
      "Epoch 33/1000\n",
      "17/21 [=======================>......] - ETA: 0s - loss: 2.9879 - accuracy: 0.4467\n",
      "Epoch 33: saving model to model/keypoint_classifier/keypoint_classifier.hdf5\n",
      "21/21 [==============================] - 0s 9ms/step - loss: 2.9048 - accuracy: 0.4470 - val_loss: 1.9848 - val_accuracy: 0.4200\n",
      "Epoch 34/1000\n",
      "17/21 [=======================>......] - ETA: 0s - loss: 3.7603 - accuracy: 0.4113\n",
      "Epoch 34: saving model to model/keypoint_classifier/keypoint_classifier.hdf5\n",
      "21/21 [==============================] - 0s 9ms/step - loss: 3.6531 - accuracy: 0.4194 - val_loss: 2.8672 - val_accuracy: 0.4591\n",
      "Epoch 35/1000\n",
      "18/21 [========================>.....] - ETA: 0s - loss: 3.1382 - accuracy: 0.4475\n",
      "Epoch 35: saving model to model/keypoint_classifier/keypoint_classifier.hdf5\n",
      "21/21 [==============================] - 0s 9ms/step - loss: 3.1071 - accuracy: 0.4478 - val_loss: 2.2253 - val_accuracy: 0.3786\n",
      "Epoch 36/1000\n",
      "16/21 [=====================>........] - ETA: 0s - loss: 2.6171 - accuracy: 0.4648\n",
      "Epoch 36: saving model to model/keypoint_classifier/keypoint_classifier.hdf5\n",
      "21/21 [==============================] - 0s 9ms/step - loss: 2.7317 - accuracy: 0.4543 - val_loss: 0.9404 - val_accuracy: 0.5846\n",
      "Epoch 36: early stopping\n"
     ]
    },
    {
     "data": {
      "text/plain": [
       "<keras.callbacks.History at 0x17d8962f0>"
      ]
     },
     "execution_count": 90,
     "metadata": {},
     "output_type": "execute_result"
    }
   ],
   "source": [
    "model.fit(\n",
    "    X_train,\n",
    "    y_train,\n",
    "    epochs=1000,\n",
    "    batch_size=128,\n",
    "    validation_data=(X_test, y_test),\n",
    "    callbacks=[cp_callback, es_callback]\n",
    ")"
   ]
  },
  {
   "cell_type": "code",
   "execution_count": 66,
   "metadata": {
    "colab": {
     "base_uri": "https://localhost:8080/"
    },
    "id": "pxvb2Y299hE3",
    "outputId": "59eb3185-2e37-4b9e-bc9d-ab1b8ac29b7f"
   },
   "outputs": [
    {
     "name": "stdout",
     "output_type": "stream",
     "text": [
      "7/7 [==============================] - 0s 11ms/step - loss: 0.5725 - accuracy: 0.6295\n"
     ]
    }
   ],
   "source": [
    "# Model evaluation\n",
    "val_loss, val_acc = model.evaluate(X_test, y_test, batch_size=128)"
   ]
  },
  {
   "cell_type": "code",
   "execution_count": 56,
   "metadata": {
    "id": "RBkmDeUW9hE4"
   },
   "outputs": [],
   "source": [
    "# Loading the saved model\n",
    "model = tf.keras.models.load_model(model_save_path)"
   ]
  },
  {
   "cell_type": "code",
   "execution_count": 57,
   "metadata": {
    "colab": {
     "base_uri": "https://localhost:8080/"
    },
    "id": "tFz9Tb0I9hE4",
    "outputId": "1c3b3528-54ae-4ee2-ab04-77429211cbef"
   },
   "outputs": [
    {
     "name": "stdout",
     "output_type": "stream",
     "text": [
      "1/1 [==============================] - 0s 48ms/step\n",
      "[4.4600968e-04 4.5366526e-01 1.0284088e-01 4.4304788e-01]\n",
      "1\n"
     ]
    }
   ],
   "source": [
    "# Inference test\n",
    "predict_result = model.predict(np.array([X_test[0]]))\n",
    "print(np.squeeze(predict_result))\n",
    "print(np.argmax(np.squeeze(predict_result)))"
   ]
  },
  {
   "attachments": {},
   "cell_type": "markdown",
   "metadata": {
    "id": "S3U4yNWx9hE4"
   },
   "source": [
    "# Confusion matrix"
   ]
  },
  {
   "cell_type": "code",
   "execution_count": 58,
   "metadata": {
    "colab": {
     "base_uri": "https://localhost:8080/",
     "height": 582
    },
    "id": "AP1V6SCk9hE5",
    "outputId": "08e41a80-7a4a-4619-8125-ecc371368d19"
   },
   "outputs": [
    {
     "name": "stdout",
     "output_type": "stream",
     "text": [
      "28/28 [==============================] - 0s 2ms/step\n"
     ]
    },
    {
     "data": {
      "image/png": "[encoded data removed]",
      "text/plain": [
       "<Figure size 700x600 with 2 Axes>"
      ]
     },
     "metadata": {},
     "output_type": "display_data"
    },
    {
     "name": "stdout",
     "output_type": "stream",
     "text": [
      "Classification Report\n",
      "              precision    recall  f1-score   support\n",
      "\n",
      "           1       0.59      0.87      0.70       415\n",
      "           2       0.63      0.38      0.47       322\n",
      "           3       1.00      0.78      0.88        81\n",
      "           4       0.00      0.00      0.00        51\n",
      "\n",
      "    accuracy                           0.63       869\n",
      "   macro avg       0.55      0.51      0.51       869\n",
      "weighted avg       0.61      0.63      0.59       869\n",
      "\n"
     ]
    },
    {
     "name": "stderr",
     "output_type": "stream",
     "text": [
      "/Users/ke7in/opt/anaconda3/envs/dl/lib/python3.10/site-packages/sklearn/metrics/_classification.py:1344: UndefinedMetricWarning: Precision and F-score are ill-defined and being set to 0.0 in labels with no predicted samples. Use `zero_division` parameter to control this behavior.\n",
      "  _warn_prf(average, modifier, msg_start, len(result))\n",
      "/Users/ke7in/opt/anaconda3/envs/dl/lib/python3.10/site-packages/sklearn/metrics/_classification.py:1344: UndefinedMetricWarning: Precision and F-score are ill-defined and being set to 0.0 in labels with no predicted samples. Use `zero_division` parameter to control this behavior.\n",
      "  _warn_prf(average, modifier, msg_start, len(result))\n",
      "/Users/ke7in/opt/anaconda3/envs/dl/lib/python3.10/site-packages/sklearn/metrics/_classification.py:1344: UndefinedMetricWarning: Precision and F-score are ill-defined and being set to 0.0 in labels with no predicted samples. Use `zero_division` parameter to control this behavior.\n",
      "  _warn_prf(average, modifier, msg_start, len(result))\n"
     ]
    }
   ],
   "source": [
    "import pandas as pd\n",
    "import seaborn as sns\n",
    "import matplotlib.pyplot as plt\n",
    "from sklearn.metrics import confusion_matrix, classification_report\n",
    "\n",
    "def print_confusion_matrix(y_true, y_pred, report=True):\n",
    "    labels = sorted(list(set(y_true)))\n",
    "    cmx_data = confusion_matrix(y_true, y_pred, labels=labels)\n",
    "    \n",
    "    df_cmx = pd.DataFrame(cmx_data, index=labels, columns=labels)\n",
    " \n",
    "    fig, ax = plt.subplots(figsize=(7, 6))\n",
    "    sns.heatmap(df_cmx, annot=True, fmt='g' ,square=False)\n",
    "    ax.set_ylim(len(set(y_true)), 0)\n",
    "    plt.show()\n",
    "    \n",
    "    if report:\n",
    "        print('Classification Report')\n",
    "        print(classification_report(y_test, y_pred))\n",
    "\n",
    "Y_pred = model.predict(X_test)\n",
    "y_pred = np.argmax(Y_pred, axis=1)\n",
    "\n",
    "print_confusion_matrix(y_test, y_pred)"
   ]
  },
  {
   "attachments": {},
   "cell_type": "markdown",
   "metadata": {
    "id": "FNP6aqzc9hE5"
   },
   "source": [
    "# Convert to model for Tensorflow-Lite"
   ]
  },
  {
   "cell_type": "code",
   "execution_count": 59,
   "metadata": {
    "id": "ODjnYyld9hE6"
   },
   "outputs": [],
   "source": [
    "# Save as a model dedicated to inference\n",
    "model.save(model_save_path, include_optimizer=False)"
   ]
  },
  {
   "cell_type": "code",
   "execution_count": 60,
   "metadata": {
    "colab": {
     "base_uri": "https://localhost:8080/"
    },
    "id": "zRfuK8Y59hE6",
    "outputId": "a4ca585c-b5d5-4244-8291-8674063209bb"
   },
   "outputs": [
    {
     "name": "stdout",
     "output_type": "stream",
     "text": [
      "INFO:tensorflow:Assets written to: /var/folders/m8/72xjfd3j68x6b8sthv31j8_m0000gn/T/tmp267eqn37/assets\n"
     ]
    },
    {
     "name": "stderr",
     "output_type": "stream",
     "text": [
      "INFO:tensorflow:Assets written to: /var/folders/m8/72xjfd3j68x6b8sthv31j8_m0000gn/T/tmp267eqn37/assets\n",
      "2023-06-26 00:59:35.599396: W tensorflow/compiler/mlir/lite/python/tf_tfl_flatbuffer_helpers.cc:364] Ignored output_format.\n",
      "2023-06-26 00:59:35.599412: W tensorflow/compiler/mlir/lite/python/tf_tfl_flatbuffer_helpers.cc:367] Ignored drop_control_dependency.\n"
     ]
    },
    {
     "data": {
      "text/plain": [
       "6572"
      ]
     },
     "execution_count": 60,
     "metadata": {},
     "output_type": "execute_result"
    }
   ],
   "source": [
    "# Transform model (quantization)\n",
    "\n",
    "converter = tf.lite.TFLiteConverter.from_keras_model(model)\n",
    "converter.optimizations = [tf.lite.Optimize.DEFAULT]\n",
    "tflite_quantized_model = converter.convert()\n",
    "\n",
    "open(tflite_save_path, 'wb').write(tflite_quantized_model)"
   ]
  },
  {
   "attachments": {},
   "cell_type": "markdown",
   "metadata": {
    "id": "CHBPBXdx9hE6"
   },
   "source": [
    "# Inference test"
   ]
  },
  {
   "cell_type": "code",
   "execution_count": 61,
   "metadata": {
    "id": "mGAzLocO9hE7"
   },
   "outputs": [],
   "source": [
    "interpreter = tf.lite.Interpreter(model_path=tflite_save_path)\n",
    "interpreter.allocate_tensors()"
   ]
  },
  {
   "cell_type": "code",
   "execution_count": 62,
   "metadata": {
    "id": "oQuDK8YS9hE7"
   },
   "outputs": [],
   "source": [
    "# Get I / O tensor\n",
    "input_details = interpreter.get_input_details()\n",
    "output_details = interpreter.get_output_details()"
   ]
  },
  {
   "cell_type": "code",
   "execution_count": 63,
   "metadata": {
    "id": "2_ixAf_l9hE7"
   },
   "outputs": [],
   "source": [
    "interpreter.set_tensor(input_details[0]['index'], np.array([X_test[0]]))"
   ]
  },
  {
   "cell_type": "code",
   "execution_count": 64,
   "metadata": {
    "colab": {
     "base_uri": "https://localhost:8080/"
    },
    "id": "s4FoAnuc9hE7",
    "outputId": "91f18257-8d8b-4ef3-c558-e9b5f94fabbf",
    "scrolled": true
   },
   "outputs": [
    {
     "name": "stdout",
     "output_type": "stream",
     "text": [
      "CPU times: user 159 µs, sys: 43 µs, total: 202 µs\n",
      "Wall time: 220 µs\n"
     ]
    }
   ],
   "source": [
    "%%time\n",
    "# Inference implementation\n",
    "interpreter.invoke()\n",
    "tflite_results = interpreter.get_tensor(output_details[0]['index'])"
   ]
  },
  {
   "cell_type": "code",
   "execution_count": 65,
   "metadata": {
    "colab": {
     "base_uri": "https://localhost:8080/"
    },
    "id": "vONjp19J9hE8",
    "outputId": "77205e24-fd00-42c4-f7b6-e06e527c2cba"
   },
   "outputs": [
    {
     "name": "stdout",
     "output_type": "stream",
     "text": [
      "[1.4805106e-16 1.0000000e+00 6.9678035e-14 1.1494438e-08]\n",
      "1\n"
     ]
    }
   ],
   "source": [
    "print(np.squeeze(tflite_results))\n",
    "print(np.argmax(np.squeeze(tflite_results)))"
   ]
  },
  {
   "cell_type": "code",
   "execution_count": null,
   "metadata": {},
   "outputs": [],
   "source": []
  }
 ],
 "metadata": {
  "accelerator": "GPU",
  "colab": {
   "collapsed_sections": [],
   "name": "keypoint_classification_EN.ipynb",
   "provenance": [],
   "toc_visible": true
  },
  "kernelspec": {
   "display_name": "Python 3 (ipykernel)",
   "language": "python",
   "name": "python3"
  },
  "language_info": {
   "codemirror_mode": {
    "name": "ipython",
    "version": 3
   },
   "file_extension": ".py",
   "mimetype": "text/x-python",
   "name": "python",
   "nbconvert_exporter": "python",
   "pygments_lexer": "ipython3",
   "version": "3.10.11"
  }
 },
 "nbformat": 4,
 "nbformat_minor": 1
}
